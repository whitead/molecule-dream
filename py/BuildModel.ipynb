{
 "cells": [
  {
   "cell_type": "code",
   "execution_count": 140,
   "metadata": {},
   "outputs": [],
   "source": [
    "import selfies as sf\n",
    "import pandas as pd\n",
    "import numpy as np\n",
    "import tensorflow as tf\n",
    "import matplotlib.pyplot as plt\n",
    "\n",
    "\n",
    "class Config():\n",
    "    vocab_size = 128\n",
    "    example_number = 20000\n",
    "    batch_size = 64\n",
    "    buffer_size = 1000\n",
    "    embedding_dim = 256\n",
    "    rnn_size = 128\n",
    "config = Config()"
   ]
  },
  {
   "cell_type": "markdown",
   "metadata": {},
   "source": [
    "## Get Vocab"
   ]
  },
  {
   "cell_type": "code",
   "execution_count": 176,
   "metadata": {},
   "outputs": [],
   "source": [
    "data_url = 'https://github.com/aspuru-guzik-group/selfies/raw/16a489afa70882428bc194b2b24a2d33573f1651/examples/vae_example/datasets/dataJ_250k_rndm_zinc_drugs_clean.txt'\n",
    "\n",
    "pd_data = pd.read_csv(data_url)\n",
    "selfies_list = list(map(sf.encoder, pd_data.iloc[:config.example_number, 0]))\n",
    "all_selfies_symbols = sf.get_alphabet_from_selfies(selfies_list)\n",
    "all_selfies_symbols.add('[nop]')\n",
    "vocab_stoi = {o:i for o,i in zip(all_selfies_symbols, range(len(all_selfies_symbols)))}"
   ]
  },
  {
   "cell_type": "code",
   "execution_count": 177,
   "metadata": {
    "scrolled": true
   },
   "outputs": [
    {
     "name": "stdout",
     "output_type": "stream",
     "text": [
      "397\n"
     ]
    }
   ],
   "source": [
    "config.pad_length = max([len(s) for s in selfies_list])\n",
    "print(config.pad_length)"
   ]
  },
  {
   "cell_type": "markdown",
   "metadata": {},
   "source": [
    "## Build data"
   ]
  },
  {
   "cell_type": "code",
   "execution_count": 142,
   "metadata": {},
   "outputs": [
    {
     "name": "stdout",
     "output_type": "stream",
     "text": [
      "<class 'tuple'>\n",
      "(64, 396) (64, 396)\n"
     ]
    }
   ],
   "source": [
    "# now get sequences\n",
    "seqs = tokenizer.texts_to_sequences(selfies_list)\n",
    "padded_seqs = tf.keras.preprocessing.sequence.pad_sequences(seqs, padding='post')\n",
    "\n",
    "# Now build dataset\n",
    "seqs_data = tf.data.Dataset.from_tensor_slices((padded_seqs,))\n",
    "\n",
    "def split_input_target(sequence):\n",
    "    input_text = sequence[:-1]\n",
    "    target_text = sequence[1:]\n",
    "    return input_text, target_text\n",
    "\n",
    "data = seqs_data.map(split_input_target)\n",
    "data = data.shuffle(config.buffer_size).batch(config.batch_size, drop_remainder=True).prefetch(tf.data.experimental.AUTOTUNE)\n",
    "for d in data:\n",
    "    print(type(d))\n",
    "    print(d[0].shape, d[1].shape)\n",
    "    example = d[0]\n",
    "    break"
   ]
  },
  {
   "cell_type": "markdown",
   "metadata": {},
   "source": [
    "## Build Model"
   ]
  },
  {
   "cell_type": "code",
   "execution_count": 148,
   "metadata": {},
   "outputs": [],
   "source": [
    "x = tf.keras.Input(shape=(None,))\n",
    "ex = tf.keras.layers.Embedding(input_dim=config.vocab_size, output_dim=config.embedding_dim, mask_zero=True)(x)\n",
    "h,s = tf.keras.layers.GRU(config.rnn_size, return_sequences=True, return_state=True)(ex)\n",
    "yhat = tf.keras.layers.Dense(config.vocab_size)(h)\n",
    "model = tf.keras.Model(inputs=x, outputs=(yhat, s))\n",
    "\n",
    "# make model for inference\n",
    "si = tf.keras.Input(shape=(config.rnn_size,))\n",
    "xi = tf.keras.Input(shape=(None,))\n",
    "x = xi\n",
    "for layer in model.layers[1:]:\n",
    "    if layer.name.startswith('gru'):\n",
    "        x,s = layer(x, initial_state=si)\n",
    "    else:\n",
    "        x = layer(x)\n",
    "#probs = tf.keras.layers.Activation('softmax')(x)\n",
    "model_continue = tf.keras.Model(inputs=(xi, si), outputs=(x,s))"
   ]
  },
  {
   "cell_type": "markdown",
   "metadata": {},
   "source": [
    "## Try Model"
   ]
  },
  {
   "cell_type": "code",
   "execution_count": 149,
   "metadata": {},
   "outputs": [],
   "source": [
    "yhat, s = model(example)"
   ]
  },
  {
   "cell_type": "code",
   "execution_count": 150,
   "metadata": {},
   "outputs": [
    {
     "name": "stdout",
     "output_type": "stream",
     "text": [
      "Model: \"model_37\"\n",
      "_________________________________________________________________\n",
      "Layer (type)                 Output Shape              Param #   \n",
      "=================================================================\n",
      "input_60 (InputLayer)        [(None, None)]            0         \n",
      "_________________________________________________________________\n",
      "embedding_34 (Embedding)     (None, None, 256)         32768     \n",
      "_________________________________________________________________\n",
      "gru_29 (GRU)                 [(None, None, 128), (None 148224    \n",
      "_________________________________________________________________\n",
      "dense_34 (Dense)             (None, None, 128)         16512     \n",
      "=================================================================\n",
      "Total params: 197,504\n",
      "Trainable params: 197,504\n",
      "Non-trainable params: 0\n",
      "_________________________________________________________________\n"
     ]
    }
   ],
   "source": [
    "model.summary()"
   ]
  },
  {
   "cell_type": "code",
   "execution_count": 151,
   "metadata": {},
   "outputs": [
    {
     "name": "stdout",
     "output_type": "stream",
     "text": [
      "Model: \"model_38\"\n",
      "__________________________________________________________________________________________________\n",
      "Layer (type)                    Output Shape         Param #     Connected to                     \n",
      "==================================================================================================\n",
      "input_62 (InputLayer)           [(None, None)]       0                                            \n",
      "__________________________________________________________________________________________________\n",
      "embedding_34 (Embedding)        (None, None, 256)    32768       input_62[0][0]                   \n",
      "__________________________________________________________________________________________________\n",
      "input_61 (InputLayer)           [(None, 128)]        0                                            \n",
      "__________________________________________________________________________________________________\n",
      "gru_29 (GRU)                    [(None, None, 128),  148224      embedding_34[1][0]               \n",
      "                                                                 input_61[0][0]                   \n",
      "__________________________________________________________________________________________________\n",
      "dense_34 (Dense)                (None, None, 128)    16512       gru_29[1][0]                     \n",
      "==================================================================================================\n",
      "Total params: 197,504\n",
      "Trainable params: 197,504\n",
      "Non-trainable params: 0\n",
      "__________________________________________________________________________________________________\n"
     ]
    }
   ],
   "source": [
    "x, s = model_continue([example, s])\n",
    "model_continue([x[...,0], s])\n",
    "model_continue.summary()"
   ]
  },
  {
   "cell_type": "markdown",
   "metadata": {},
   "source": [
    "## Train"
   ]
  },
  {
   "cell_type": "code",
   "execution_count": 152,
   "metadata": {
    "scrolled": true
   },
   "outputs": [
    {
     "name": "stdout",
     "output_type": "stream",
     "text": [
      "Epoch 1/3\n",
      "312/312 [==============================] - 114s 358ms/step - loss: 0.2441 - dense_34_loss: 0.2441\n",
      "Epoch 2/3\n",
      "312/312 [==============================] - 111s 355ms/step - loss: 0.1582 - dense_34_loss: 0.1582\n",
      "Epoch 3/3\n",
      "312/312 [==============================] - 117s 376ms/step - loss: 0.1401 - dense_34_loss: 0.1401\n"
     ]
    }
   ],
   "source": [
    "loss = tf.losses.SparseCategoricalCrossentropy(from_logits=True)\n",
    "model.compile(tf.optimizers.Adam(1e-2), loss=[loss, None])\n",
    "result = model.fit(data, epochs=3)"
   ]
  },
  {
   "cell_type": "code",
   "execution_count": 153,
   "metadata": {},
   "outputs": [
    {
     "data": {
      "image/png": "[encoded data removed]",
      "text/plain": [
       "<Figure size 432x288 with 1 Axes>"
      ]
     },
     "metadata": {
      "needs_background": "light"
     },
     "output_type": "display_data"
    }
   ],
   "source": [
    "plt.plot(result.history['loss'])\n",
    "plt.show()\n",
    "model.reset_states()"
   ]
  },
  {
   "cell_type": "markdown",
   "metadata": {},
   "source": [
    "## Try Trained Model"
   ]
  },
  {
   "cell_type": "code",
   "execution_count": 154,
   "metadata": {},
   "outputs": [],
   "source": [
    "start = np.zeros((1, 10))\n",
    "start[0, 0] = 1\n",
    "start[0,1] = 2\n",
    "x,s = model_continue([start, np.zeros((1, config.rnn_size))])"
   ]
  },
  {
   "cell_type": "code",
   "execution_count": 155,
   "metadata": {},
   "outputs": [],
   "source": [
    "model_continue.layers[2].return_sequences=False"
   ]
  },
  {
   "cell_type": "markdown",
   "metadata": {},
   "source": [
    "## Prune Model"
   ]
  },
  {
   "cell_type": "raw",
   "metadata": {},
   "source": [
    "# disabled for now\n",
    "pruning_schedule = tfmot.sparsity.keras.PolynomialDecay(\n",
    "                      initial_sparsity=0.0, final_sparsity=0.5,\n",
    "                      begin_step=2000, end_step=4000)\n",
    "\n",
    "model_for_pruning = tfmot.sparsity.keras.prune_low_magnitude(\n",
    "    model, pruning_schedule=pruning_schedule)\n",
    "\n",
    "result = model.fit(data, epochs=1)\n"
   ]
  },
  {
   "cell_type": "markdown",
   "metadata": {},
   "source": [
    "## Save Model"
   ]
  },
  {
   "cell_type": "code",
   "execution_count": 156,
   "metadata": {},
   "outputs": [
    {
     "name": "stdout",
     "output_type": "stream",
     "text": [
      "WARNING:tensorflow:Compiled the loaded model, but the compiled metrics have yet to be built. `model.compile_metrics` will be empty until you train or evaluate the model.\n"
     ]
    }
   ],
   "source": [
    "import tensorflowjs as tfjs\n",
    "tfjs.converters.save_keras_model(model_continue, '../model')"
   ]
  },
  {
   "cell_type": "code",
   "execution_count": 160,
   "metadata": {},
   "outputs": [
    {
     "data": {
      "text/plain": [
       "{'num_words': 128,\n",
       " 'filters': '',\n",
       " 'lower': True,\n",
       " 'split': ' ',\n",
       " 'char_level': True,\n",
       " 'oov_token': None,\n",
       " 'document_count': 20000,\n",
       " 'word_counts': '{\"[\": 750277, \"c\": 529500, \"]\": 750277, \"@\": 26469, \"h\": 152309, \"e\": 29903, \"x\": 29903, \"p\": 32576, \"l\": 33408, \"b\": 130435, \"r\": 216136, \"a\": 129436, \"n\": 278264, \"2\": 93655, \"_\": 129436, \"1\": 238037, \"i\": 85784, \"g\": 85701, \"=\": 132976, \"#\": 3997, \"o\": 50466, \"s\": 11296, \"3\": 14868, \"-\": 2078, \"+\": 6008, \"/\": 2218, \"f\": 6432, \"\\\\\\\\\": 484}',\n",
       " 'word_docs': '{\"]\": 20000, \"e\": 15112, \"i\": 19937, \"x\": 15112, \"l\": 16106, \"_\": 20000, \"c\": 20000, \"p\": 15747, \"=\": 19743, \"@\": 11531, \"a\": 20000, \"[\": 20000, \"b\": 20000, \"h\": 20000, \"n\": 20000, \"2\": 19547, \"g\": 19937, \"1\": 20000, \"r\": 20000, \"o\": 18842, \"#\": 3565, \"3\": 11284, \"s\": 8861, \"-\": 1963, \"+\": 5521, \"/\": 1306, \"f\": 3741, \"\\\\\\\\\": 470}',\n",
       " 'index_docs': '{\"2\": 20000, \"18\": 15112, \"13\": 19937, \"19\": 15112, \"16\": 16106, \"11\": 20000, \"3\": 20000, \"17\": 15747, \"8\": 19743, \"20\": 11531, \"10\": 20000, \"1\": 20000, \"9\": 20000, \"7\": 20000, \"4\": 20000, \"12\": 19547, \"14\": 19937, \"5\": 20000, \"6\": 20000, \"15\": 18842, \"25\": 3565, \"21\": 11284, \"22\": 8861, \"27\": 1963, \"24\": 5521, \"26\": 1306, \"23\": 3741, \"28\": 470}',\n",
       " 'index_word': '{\"1\": \"[\", \"2\": \"]\", \"3\": \"c\", \"4\": \"n\", \"5\": \"1\", \"6\": \"r\", \"7\": \"h\", \"8\": \"=\", \"9\": \"b\", \"10\": \"a\", \"11\": \"_\", \"12\": \"2\", \"13\": \"i\", \"14\": \"g\", \"15\": \"o\", \"16\": \"l\", \"17\": \"p\", \"18\": \"e\", \"19\": \"x\", \"20\": \"@\", \"21\": \"3\", \"22\": \"s\", \"23\": \"f\", \"24\": \"+\", \"25\": \"#\", \"26\": \"/\", \"27\": \"-\", \"28\": \"\\\\\\\\\"}',\n",
       " 'word_index': '{\"[\": 1, \"]\": 2, \"c\": 3, \"n\": 4, \"1\": 5, \"r\": 6, \"h\": 7, \"=\": 8, \"b\": 9, \"a\": 10, \"_\": 11, \"2\": 12, \"i\": 13, \"g\": 14, \"o\": 15, \"l\": 16, \"p\": 17, \"e\": 18, \"x\": 19, \"@\": 20, \"3\": 21, \"s\": 22, \"f\": 23, \"+\": 24, \"#\": 25, \"/\": 26, \"-\": 27, \"\\\\\\\\\": 28}'}"
      ]
     },
     "execution_count": 160,
     "metadata": {},
     "output_type": "execute_result"
    }
   ],
   "source": [
    "import json\n",
    "\n",
    "tokenizer.get_config()"
   ]
  },
  {
   "cell_type": "code",
   "execution_count": null,
   "metadata": {},
   "outputs": [],
   "source": []
  }
 ],
 "metadata": {
  "kernelspec": {
   "display_name": "Python 3",
   "language": "python",
   "name": "python3"
  },
  "language_info": {
   "codemirror_mode": {
    "name": "ipython",
    "version": 3
   },
   "file_extension": ".py",
   "mimetype": "text/x-python",
   "name": "python",
   "nbconvert_exporter": "python",
   "pygments_lexer": "ipython3",
   "version": "3.8.5"
  }
 },
 "nbformat": 4,
 "nbformat_minor": 4
}
