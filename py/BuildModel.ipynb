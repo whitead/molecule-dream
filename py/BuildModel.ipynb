{
 "cells": [
  {
   "cell_type": "code",
   "execution_count": 81,
   "metadata": {},
   "outputs": [],
   "source": [
    "import selfies as sf\n",
    "import pandas as pd\n",
    "import numpy as np\n",
    "import tensorflow as tf\n",
    "import matplotlib.pyplot as plt\n",
    "from typing import NamedTuple\n",
    "from dataclasses import dataclass, asdict\n",
    "import json\n",
    "\n",
    "@dataclass\n",
    "class Config:\n",
    "    vocab_size: int\n",
    "    example_number: int\n",
    "    batch_size: int\n",
    "    buffer_size: int\n",
    "    embedding_dim: int\n",
    "    rnn_size: int\n",
    "        \n",
    "config = Config(128, 20000, 64, 1000, 256, 128)"
   ]
  },
  {
   "cell_type": "code",
   "execution_count": 75,
   "metadata": {},
   "outputs": [
    {
     "data": {
      "text/plain": [
       "['__annotations__',\n",
       " '__class__',\n",
       " '__dataclass_fields__',\n",
       " '__dataclass_params__',\n",
       " '__delattr__',\n",
       " '__dict__',\n",
       " '__dir__',\n",
       " '__doc__',\n",
       " '__eq__',\n",
       " '__format__',\n",
       " '__ge__',\n",
       " '__getattribute__',\n",
       " '__gt__',\n",
       " '__hash__',\n",
       " '__init__',\n",
       " '__init_subclass__',\n",
       " '__le__',\n",
       " '__lt__',\n",
       " '__module__',\n",
       " '__ne__',\n",
       " '__new__',\n",
       " '__reduce__',\n",
       " '__reduce_ex__',\n",
       " '__repr__',\n",
       " '__setattr__',\n",
       " '__sizeof__',\n",
       " '__str__',\n",
       " '__subclasshook__',\n",
       " '__weakref__',\n",
       " 'batch_size',\n",
       " 'buffer_size',\n",
       " 'embedding_dim',\n",
       " 'example_number',\n",
       " 'rnn_size',\n",
       " 'vocab_size']"
      ]
     },
     "execution_count": 75,
     "metadata": {},
     "output_type": "execute_result"
    }
   ],
   "source": [
    "dir(config)"
   ]
  },
  {
   "cell_type": "markdown",
   "metadata": {},
   "source": [
    "## Get Vocab"
   ]
  },
  {
   "cell_type": "code",
   "execution_count": 42,
   "metadata": {},
   "outputs": [
    {
     "name": "stdout",
     "output_type": "stream",
     "text": [
      "{'[nop]': 0, '[/NH+expl]': 1, '[Branch2_2]': 2, '[\\\\C]': 3, '[N]': 4, '[C@@expl]': 5, '[NH3+expl]': 6, '[Br]': 7, '[\\\\C@@Hexpl]': 8, '[C@expl]': 9, '[#C]': 10, '[/O]': 11, '[/S-expl]': 12, '[S@@expl]': 13, '[/C@@Hexpl]': 14, '[\\\\S]': 15, '[P@@Hexpl]': 16, '[Branch1_1]': 17, '[/C]': 18, '[P@expl]': 19, '[S-expl]': 20, '[Ring2]': 21, '[\\\\NHexpl]': 22, '[\\\\O-expl]': 23, '[C@Hexpl]': 24, '[=N]': 25, '[/F]': 26, '[=OH+expl]': 27, '[S@expl]': 28, '[Cl]': 29, '[=S@@expl]': 30, '[Branch1_2]': 31, '[Ring1]': 32, '[\\\\NH+expl]': 33, '[\\\\Cl]': 34, '[=S]': 35, '[Branch2_1]': 36, '[\\\\N-expl]': 37, '[\\\\N]': 38, '[/O-expl]': 39, '[#N]': 40, '[C]': 41, '[=S@expl]': 42, '[NHexpl]': 43, '[Expl=Ring2]': 44, '[Branch1_3]': 45, '[P@@expl]': 46, '[=O]': 47, '[Branch2_3]': 48, '[/S@expl]': 49, '[C@@Hexpl]': 50, '[=P@@expl]': 51, '[O-expl]': 52, '[/N+expl]': 53, '[F]': 54, '[S]': 55, '[N-expl]': 56, '[/Cl]': 57, '[O]': 58, '[=N+expl]': 59, '[P]': 60, '[/C@Hexpl]': 61, '[\\\\C@Hexpl]': 62, '[/N]': 63, '[=P]': 64, '[=N-expl]': 65, '[=C]': 66, '[\\\\O]': 67, '[NH+expl]': 68, '[\\\\S-expl]': 69, '[NH-expl]': 70, '[/S]': 71, '[=PH2expl]': 72, '[Expl=Ring1]': 73, '[Expl\\\\Ring1]': 74, '[=NH2+expl]': 75, '[NH2+expl]': 76, '[I]': 77, '[=NH+expl]': 78, '[/NHexpl]': 79, '[N+expl]': 80, '[#N+expl]': 81}\n"
     ]
    }
   ],
   "source": [
    "data_url = 'https://github.com/aspuru-guzik-group/selfies/raw/16a489afa70882428bc194b2b24a2d33573f1651/examples/vae_example/datasets/dataJ_250k_rndm_zinc_drugs_clean.txt'\n",
    "\n",
    "pd_data = pd.read_csv(data_url)\n",
    "selfies_list = list(map(sf.encoder, pd_data.iloc[:config.example_number, 0]))\n",
    "all_selfies_symbols = ['[nop]']\n",
    "all_selfies_symbols += sf.get_alphabet_from_selfies(selfies_list)\n",
    "vocab_stoi = {o:i for o,i in zip(all_selfies_symbols, range(len(all_selfies_symbols)))}\n",
    "print(vocab_stoi)"
   ]
  },
  {
   "cell_type": "code",
   "execution_count": 43,
   "metadata": {},
   "outputs": [],
   "source": [
    "encoded = [sf.selfies_to_encoding(s, vocab_stoi)[0] for s in selfies_list]"
   ]
  },
  {
   "cell_type": "markdown",
   "metadata": {},
   "source": [
    "## Build data"
   ]
  },
  {
   "cell_type": "code",
   "execution_count": 44,
   "metadata": {},
   "outputs": [
    {
     "name": "stdout",
     "output_type": "stream",
     "text": [
      "(64, 66) (64, 66)\n"
     ]
    }
   ],
   "source": [
    "# now get sequences\n",
    "padded_seqs = tf.keras.preprocessing.sequence.pad_sequences(encoded, padding='post')\n",
    "\n",
    "# Now build dataset\n",
    "seqs_data = tf.data.Dataset.from_tensor_slices((padded_seqs,))\n",
    "\n",
    "def split_input_target(sequence):\n",
    "    input_text = sequence[:-1]\n",
    "    target_text = sequence[1:]\n",
    "    return input_text, target_text\n",
    "\n",
    "data = seqs_data.map(split_input_target)\n",
    "data = data.shuffle(config.buffer_size).batch(config.batch_size, drop_remainder=True).prefetch(tf.data.experimental.AUTOTUNE)\n",
    "for d in data:\n",
    "    print(d[0].shape, d[1].shape)\n",
    "    example = d[0]\n",
    "    example_y = d[1]\n",
    "    break"
   ]
  },
  {
   "cell_type": "markdown",
   "metadata": {},
   "source": [
    "## Build Model"
   ]
  },
  {
   "cell_type": "code",
   "execution_count": 45,
   "metadata": {},
   "outputs": [],
   "source": [
    "x = tf.keras.Input(shape=(None,))\n",
    "ex = tf.keras.layers.Embedding(input_dim=config.vocab_size, output_dim=config.embedding_dim, mask_zero=True)(x)\n",
    "h,s = tf.keras.layers.GRU(config.rnn_size, return_sequences=True, return_state=True)(ex)\n",
    "yhat = tf.keras.layers.Dense(config.vocab_size)(h)\n",
    "model = tf.keras.Model(inputs=x, outputs=(yhat, s))\n",
    "\n",
    "# make model for inference\n",
    "si = tf.keras.Input(shape=(config.rnn_size,))\n",
    "xi = tf.keras.Input(shape=(None,))\n",
    "x = xi\n",
    "for layer in model.layers[1:]:\n",
    "    if layer.name.startswith('gru'):\n",
    "        x,s = layer(x, initial_state=si)\n",
    "    else:\n",
    "        x = layer(x)\n",
    "#probs = tf.keras.layers.Activation('softmax')(x)\n",
    "model_continue = tf.keras.Model(inputs=(xi, si), outputs=(x,s))"
   ]
  },
  {
   "cell_type": "markdown",
   "metadata": {},
   "source": [
    "## Try Model"
   ]
  },
  {
   "cell_type": "code",
   "execution_count": 46,
   "metadata": {},
   "outputs": [],
   "source": [
    "yhat, s = model(example)"
   ]
  },
  {
   "cell_type": "code",
   "execution_count": 47,
   "metadata": {},
   "outputs": [
    {
     "name": "stdout",
     "output_type": "stream",
     "text": [
      "Model: \"model_2\"\n",
      "_________________________________________________________________\n",
      "Layer (type)                 Output Shape              Param #   \n",
      "=================================================================\n",
      "input_4 (InputLayer)         [(None, None)]            0         \n",
      "_________________________________________________________________\n",
      "embedding_1 (Embedding)      (None, None, 256)         32768     \n",
      "_________________________________________________________________\n",
      "gru_1 (GRU)                  [(None, None, 128), (None 148224    \n",
      "_________________________________________________________________\n",
      "dense_1 (Dense)              (None, None, 128)         16512     \n",
      "=================================================================\n",
      "Total params: 197,504\n",
      "Trainable params: 197,504\n",
      "Non-trainable params: 0\n",
      "_________________________________________________________________\n"
     ]
    }
   ],
   "source": [
    "model.summary()"
   ]
  },
  {
   "cell_type": "code",
   "execution_count": 48,
   "metadata": {},
   "outputs": [
    {
     "name": "stdout",
     "output_type": "stream",
     "text": [
      "Model: \"model_3\"\n",
      "__________________________________________________________________________________________________\n",
      "Layer (type)                    Output Shape         Param #     Connected to                     \n",
      "==================================================================================================\n",
      "input_6 (InputLayer)            [(None, None)]       0                                            \n",
      "__________________________________________________________________________________________________\n",
      "embedding_1 (Embedding)         (None, None, 256)    32768       input_6[0][0]                    \n",
      "__________________________________________________________________________________________________\n",
      "input_5 (InputLayer)            [(None, 128)]        0                                            \n",
      "__________________________________________________________________________________________________\n",
      "gru_1 (GRU)                     [(None, None, 128),  148224      embedding_1[1][0]                \n",
      "                                                                 input_5[0][0]                    \n",
      "__________________________________________________________________________________________________\n",
      "dense_1 (Dense)                 (None, None, 128)    16512       gru_1[1][0]                      \n",
      "==================================================================================================\n",
      "Total params: 197,504\n",
      "Trainable params: 197,504\n",
      "Non-trainable params: 0\n",
      "__________________________________________________________________________________________________\n"
     ]
    }
   ],
   "source": [
    "x, s = model_continue([example, s])\n",
    "model_continue([x[...,0], s])\n",
    "model_continue.summary()"
   ]
  },
  {
   "cell_type": "markdown",
   "metadata": {},
   "source": [
    "## Train"
   ]
  },
  {
   "cell_type": "code",
   "execution_count": 49,
   "metadata": {
    "scrolled": true
   },
   "outputs": [
    {
     "name": "stdout",
     "output_type": "stream",
     "text": [
      "Epoch 1/3\n",
      "312/312 [==============================] - 15s 43ms/step - loss: 0.8345 - dense_1_loss: 0.8345\n",
      "Epoch 2/3\n",
      "312/312 [==============================] - 14s 44ms/step - loss: 0.6557 - dense_1_loss: 0.6557\n",
      "Epoch 3/3\n",
      "312/312 [==============================] - 14s 43ms/step - loss: 0.6251 - dense_1_loss: 0.6251\n"
     ]
    }
   ],
   "source": [
    "loss = tf.losses.SparseCategoricalCrossentropy(from_logits=True)\n",
    "model.compile(tf.optimizers.Adam(1e-2), loss=[loss, None])\n",
    "result = model.fit(data, epochs=3)"
   ]
  },
  {
   "cell_type": "code",
   "execution_count": 50,
   "metadata": {},
   "outputs": [
    {
     "data": {
      "image/png": "[encoded data removed]",
      "text/plain": [
       "<Figure size 432x288 with 1 Axes>"
      ]
     },
     "metadata": {
      "needs_background": "light"
     },
     "output_type": "display_data"
    }
   ],
   "source": [
    "plt.plot(result.history['loss'])\n",
    "plt.show()\n",
    "model.reset_states()"
   ]
  },
  {
   "cell_type": "markdown",
   "metadata": {},
   "source": [
    "## Try Trained Model"
   ]
  },
  {
   "cell_type": "code",
   "execution_count": 51,
   "metadata": {},
   "outputs": [],
   "source": [
    "start = np.zeros((1, 10))\n",
    "start[0, 0] = 1\n",
    "start[0,1] = 2\n",
    "x,s = model_continue([start, np.zeros((1, config.rnn_size))])"
   ]
  },
  {
   "cell_type": "code",
   "execution_count": 52,
   "metadata": {},
   "outputs": [],
   "source": [
    "model_continue.layers[2].return_sequences=False"
   ]
  },
  {
   "cell_type": "markdown",
   "metadata": {},
   "source": [
    "## Save Model"
   ]
  },
  {
   "cell_type": "code",
   "execution_count": 53,
   "metadata": {},
   "outputs": [
    {
     "name": "stdout",
     "output_type": "stream",
     "text": [
      "WARNING:tensorflow:Compiled the loaded model, but the compiled metrics have yet to be built. `model.compile_metrics` will be empty until you train or evaluate the model.\n"
     ]
    }
   ],
   "source": [
    "import tensorflowjs as tfjs\n",
    "tfjs.converters.save_keras_model(model_continue, '../model')"
   ]
  },
  {
   "cell_type": "markdown",
   "metadata": {},
   "source": [
    "## Save Config"
   ]
  },
  {
   "cell_type": "code",
   "execution_count": 88,
   "metadata": {
    "scrolled": false
   },
   "outputs": [
    {
     "name": "stdout",
     "output_type": "stream",
     "text": [
      "{\n",
      "  \"vocab_size\": 128,\n",
      "  \"example_number\": 20000,\n",
      "  \"batch_size\": 64,\n",
      "  \"buffer_size\": 1000,\n",
      "  \"embedding_dim\": 256,\n",
      "  \"rnn_size\": 128,\n",
      "  \"stoi\": {\n",
      "    \"[nop]\": 0,\n",
      "    \"[/NH+expl]\": 1,\n",
      "    \"[Branch2_2]\": 2,\n",
      "    \"[\\\\C]\": 3,\n",
      "    \"[N]\": 4,\n",
      "    \"[C@@expl]\": 5,\n",
      "    \"[NH3+expl]\": 6,\n",
      "    \"[Br]\": 7,\n",
      "    \"[\\\\C@@Hexpl]\": 8,\n",
      "    \"[C@expl]\": 9,\n",
      "    \"[#C]\": 10,\n",
      "    \"[/O]\": 11,\n",
      "    \"[/S-expl]\": 12,\n",
      "    \"[S@@expl]\": 13,\n",
      "    \"[/C@@Hexpl]\": 14,\n",
      "    \"[\\\\S]\": 15,\n",
      "    \"[P@@Hexpl]\": 16,\n",
      "    \"[Branch1_1]\": 17,\n",
      "    \"[/C]\": 18,\n",
      "    \"[P@expl]\": 19,\n",
      "    \"[S-expl]\": 20,\n",
      "    \"[Ring2]\": 21,\n",
      "    \"[\\\\NHexpl]\": 22,\n",
      "    \"[\\\\O-expl]\": 23,\n",
      "    \"[C@Hexpl]\": 24,\n",
      "    \"[=N]\": 25,\n",
      "    \"[/F]\": 26,\n",
      "    \"[=OH+expl]\": 27,\n",
      "    \"[S@expl]\": 28,\n",
      "    \"[Cl]\": 29,\n",
      "    \"[=S@@expl]\": 30,\n",
      "    \"[Branch1_2]\": 31,\n",
      "    \"[Ring1]\": 32,\n",
      "    \"[\\\\NH+expl]\": 33,\n",
      "    \"[\\\\Cl]\": 34,\n",
      "    \"[=S]\": 35,\n",
      "    \"[Branch2_1]\": 36,\n",
      "    \"[\\\\N-expl]\": 37,\n",
      "    \"[\\\\N]\": 38,\n",
      "    \"[/O-expl]\": 39,\n",
      "    \"[#N]\": 40,\n",
      "    \"[C]\": 41,\n",
      "    \"[=S@expl]\": 42,\n",
      "    \"[NHexpl]\": 43,\n",
      "    \"[Expl=Ring2]\": 44,\n",
      "    \"[Branch1_3]\": 45,\n",
      "    \"[P@@expl]\": 46,\n",
      "    \"[=O]\": 47,\n",
      "    \"[Branch2_3]\": 48,\n",
      "    \"[/S@expl]\": 49,\n",
      "    \"[C@@Hexpl]\": 50,\n",
      "    \"[=P@@expl]\": 51,\n",
      "    \"[O-expl]\": 52,\n",
      "    \"[/N+expl]\": 53,\n",
      "    \"[F]\": 54,\n",
      "    \"[S]\": 55,\n",
      "    \"[N-expl]\": 56,\n",
      "    \"[/Cl]\": 57,\n",
      "    \"[O]\": 58,\n",
      "    \"[=N+expl]\": 59,\n",
      "    \"[P]\": 60,\n",
      "    \"[/C@Hexpl]\": 61,\n",
      "    \"[\\\\C@Hexpl]\": 62,\n",
      "    \"[/N]\": 63,\n",
      "    \"[=P]\": 64,\n",
      "    \"[=N-expl]\": 65,\n",
      "    \"[=C]\": 66,\n",
      "    \"[\\\\O]\": 67,\n",
      "    \"[NH+expl]\": 68,\n",
      "    \"[\\\\S-expl]\": 69,\n",
      "    \"[NH-expl]\": 70,\n",
      "    \"[/S]\": 71,\n",
      "    \"[=PH2expl]\": 72,\n",
      "    \"[Expl=Ring1]\": 73,\n",
      "    \"[Expl\\\\Ring1]\": 74,\n",
      "    \"[=NH2+expl]\": 75,\n",
      "    \"[NH2+expl]\": 76,\n",
      "    \"[I]\": 77,\n",
      "    \"[=NH+expl]\": 78,\n",
      "    \"[/NHexpl]\": 79,\n",
      "    \"[N+expl]\": 80,\n",
      "    \"[#N+expl]\": 81\n",
      "  },\n",
      "  \"vocab\": [\n",
      "    \"[nop]\",\n",
      "    \"[/NH+expl]\",\n",
      "    \"[Branch2_2]\",\n",
      "    \"[\\\\C]\",\n",
      "    \"[N]\",\n",
      "    \"[C@@expl]\",\n",
      "    \"[NH3+expl]\",\n",
      "    \"[Br]\",\n",
      "    \"[\\\\C@@Hexpl]\",\n",
      "    \"[C@expl]\",\n",
      "    \"[#C]\",\n",
      "    \"[/O]\",\n",
      "    \"[/S-expl]\",\n",
      "    \"[S@@expl]\",\n",
      "    \"[/C@@Hexpl]\",\n",
      "    \"[\\\\S]\",\n",
      "    \"[P@@Hexpl]\",\n",
      "    \"[Branch1_1]\",\n",
      "    \"[/C]\",\n",
      "    \"[P@expl]\",\n",
      "    \"[S-expl]\",\n",
      "    \"[Ring2]\",\n",
      "    \"[\\\\NHexpl]\",\n",
      "    \"[\\\\O-expl]\",\n",
      "    \"[C@Hexpl]\",\n",
      "    \"[=N]\",\n",
      "    \"[/F]\",\n",
      "    \"[=OH+expl]\",\n",
      "    \"[S@expl]\",\n",
      "    \"[Cl]\",\n",
      "    \"[=S@@expl]\",\n",
      "    \"[Branch1_2]\",\n",
      "    \"[Ring1]\",\n",
      "    \"[\\\\NH+expl]\",\n",
      "    \"[\\\\Cl]\",\n",
      "    \"[=S]\",\n",
      "    \"[Branch2_1]\",\n",
      "    \"[\\\\N-expl]\",\n",
      "    \"[\\\\N]\",\n",
      "    \"[/O-expl]\",\n",
      "    \"[#N]\",\n",
      "    \"[C]\",\n",
      "    \"[=S@expl]\",\n",
      "    \"[NHexpl]\",\n",
      "    \"[Expl=Ring2]\",\n",
      "    \"[Branch1_3]\",\n",
      "    \"[P@@expl]\",\n",
      "    \"[=O]\",\n",
      "    \"[Branch2_3]\",\n",
      "    \"[/S@expl]\",\n",
      "    \"[C@@Hexpl]\",\n",
      "    \"[=P@@expl]\",\n",
      "    \"[O-expl]\",\n",
      "    \"[/N+expl]\",\n",
      "    \"[F]\",\n",
      "    \"[S]\",\n",
      "    \"[N-expl]\",\n",
      "    \"[/Cl]\",\n",
      "    \"[O]\",\n",
      "    \"[=N+expl]\",\n",
      "    \"[P]\",\n",
      "    \"[/C@Hexpl]\",\n",
      "    \"[\\\\C@Hexpl]\",\n",
      "    \"[/N]\",\n",
      "    \"[=P]\",\n",
      "    \"[=N-expl]\",\n",
      "    \"[=C]\",\n",
      "    \"[\\\\O]\",\n",
      "    \"[NH+expl]\",\n",
      "    \"[\\\\S-expl]\",\n",
      "    \"[NH-expl]\",\n",
      "    \"[/S]\",\n",
      "    \"[=PH2expl]\",\n",
      "    \"[Expl=Ring1]\",\n",
      "    \"[Expl\\\\Ring1]\",\n",
      "    \"[=NH2+expl]\",\n",
      "    \"[NH2+expl]\",\n",
      "    \"[I]\",\n",
      "    \"[=NH+expl]\",\n",
      "    \"[/NHexpl]\",\n",
      "    \"[N+expl]\",\n",
      "    \"[#N+expl]\"\n",
      "  ]\n",
      "}\n"
     ]
    }
   ],
   "source": [
    "import json\n",
    "\n",
    "model_info = asdict(config)\n",
    "model_info['stoi'] = vocab_stoi\n",
    "model_info['vocab'] = all_selfies_symbols\n",
    "\n",
    "\n",
    "with open('../src/lib/model_info.json', 'w') as f:\n",
    "    json.dump(model_info, f)\n",
    "    print(json.dumps(model_info, indent=2))"
   ]
  },
  {
   "cell_type": "code",
   "execution_count": 89,
   "metadata": {},
   "outputs": [
    {
     "data": {
      "text/plain": [
       "'[C][C@@Hexpl][C][C][Branch2_1][Ring1][Ring2][N][C][=C][N][=C][C][Branch1_1][Branch2_2][C][=N][N][=C][N][Ring1][Branch1_1][C][=C][Ring1][N][C][C@@Hexpl][Branch1_1][C][C][C][Ring2][Ring1][Ring2]'"
      ]
     },
     "execution_count": 89,
     "metadata": {},
     "output_type": "execute_result"
    }
   ],
   "source": [
    "selfies_list[0]"
   ]
  },
  {
   "cell_type": "code",
   "execution_count": 92,
   "metadata": {},
   "outputs": [
    {
     "data": {
      "text/plain": [
       "'[P@@H][S@@]=S\\\\NBr'"
      ]
     },
     "execution_count": 92,
     "metadata": {},
     "output_type": "execute_result"
    }
   ],
   "source": [
    "sf.decoder(r'[nop][P@@Hexpl][S@@expl][=S][\\N][Br][Ring1][Expl=Ring1][\\N][NH3+expl][Ring2][S-expl][\\S][Branch1_2][Branch1_2][S-expl][\\C@Hexpl][/S-expl][=PH2expl][NH2+expl][\\C@Hexpl][\\NH+expl][Branch1_2][P@@Hexpl][Cl][=PH2expl][P][=P][Cl][Branch1_2][=O][NH3+expl][Ring2][=N][=P@@expl][/S][C@@Hexpl][I][\\C@@Hexpl][=S@@expl][\\N-expl][/NH+expl][/S][=P][/Cl][Br][/O-expl][C][/N][nop][Branch1_2][/O-expl][=O][\\C][nop][O][=C][nop][=NH+expl][Branch1_1][O-expl][\\O-expl][=NH2+expl][O-expl][=PH2expl][\\NH+expl][Branch1_3][N-expl][/S][Ring1][O-expl][\\O-expl][N+expl][C@@expl][Br][=C][/O][C@@expl][=NH2+expl]')"
   ]
  },
  {
   "cell_type": "code",
   "execution_count": null,
   "metadata": {},
   "outputs": [],
   "source": []
  }
 ],
 "metadata": {
  "kernelspec": {
   "display_name": "Python 3",
   "language": "python",
   "name": "python3"
  },
  "language_info": {
   "codemirror_mode": {
    "name": "ipython",
    "version": 3
   },
   "file_extension": ".py",
   "mimetype": "text/x-python",
   "name": "python",
   "nbconvert_exporter": "python",
   "pygments_lexer": "ipython3",
   "version": "3.7.8"
  }
 },
 "nbformat": 4,
 "nbformat_minor": 4
}
