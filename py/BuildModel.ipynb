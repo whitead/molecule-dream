{
 "cells": [
  {
   "cell_type": "code",
   "execution_count": 1,
   "metadata": {},
   "outputs": [],
   "source": [
    "import selfies as sf\n",
    "import pandas as pd\n",
    "import numpy as np\n",
    "import tensorflow as tf\n",
    "import matplotlib.pyplot as plt\n",
    "from typing import NamedTuple\n",
    "from dataclasses import dataclass, asdict\n",
    "import json\n",
    "\n",
    "@dataclass\n",
    "class Config:\n",
    "    vocab_size: int\n",
    "    example_number: int\n",
    "    batch_size: int\n",
    "    buffer_size: int\n",
    "    embedding_dim: int\n",
    "    rnn_size: int\n",
    "        \n",
    "config = Config(128, 20000, 64, 1000, 256, 128)"
   ]
  },
  {
   "cell_type": "code",
   "execution_count": 2,
   "metadata": {},
   "outputs": [
    {
     "data": {
      "text/plain": [
       "['__annotations__',\n",
       " '__class__',\n",
       " '__dataclass_fields__',\n",
       " '__dataclass_params__',\n",
       " '__delattr__',\n",
       " '__dict__',\n",
       " '__dir__',\n",
       " '__doc__',\n",
       " '__eq__',\n",
       " '__format__',\n",
       " '__ge__',\n",
       " '__getattribute__',\n",
       " '__gt__',\n",
       " '__hash__',\n",
       " '__init__',\n",
       " '__init_subclass__',\n",
       " '__le__',\n",
       " '__lt__',\n",
       " '__module__',\n",
       " '__ne__',\n",
       " '__new__',\n",
       " '__reduce__',\n",
       " '__reduce_ex__',\n",
       " '__repr__',\n",
       " '__setattr__',\n",
       " '__sizeof__',\n",
       " '__str__',\n",
       " '__subclasshook__',\n",
       " '__weakref__',\n",
       " 'batch_size',\n",
       " 'buffer_size',\n",
       " 'embedding_dim',\n",
       " 'example_number',\n",
       " 'rnn_size',\n",
       " 'vocab_size']"
      ]
     },
     "execution_count": 2,
     "metadata": {},
     "output_type": "execute_result"
    }
   ],
   "source": [
    "dir(config)"
   ]
  },
  {
   "cell_type": "markdown",
   "metadata": {},
   "source": [
    "## Get Vocab"
   ]
  },
  {
   "cell_type": "code",
   "execution_count": 3,
   "metadata": {},
   "outputs": [
    {
     "name": "stdout",
     "output_type": "stream",
     "text": [
      "{'[nop]': 0, '[\\\\S-expl]': 1, '[/NH+expl]': 2, '[=OH+expl]': 3, '[S@@expl]': 4, '[\\\\C]': 5, '[Branch1_3]': 6, '[NHexpl]': 7, '[NH2+expl]': 8, '[/S@expl]': 9, '[P]': 10, '[/C@Hexpl]': 11, '[F]': 12, '[/S-expl]': 13, '[\\\\O]': 14, '[=C]': 15, '[=PH2expl]': 16, '[P@expl]': 17, '[S]': 18, '[/Cl]': 19, '[P@@Hexpl]': 20, '[#C]': 21, '[=P]': 22, '[\\\\C@@Hexpl]': 23, '[=N]': 24, '[\\\\S]': 25, '[N+expl]': 26, '[/N]': 27, '[P@@expl]': 28, '[C@@expl]': 29, '[=N+expl]': 30, '[=NH2+expl]': 31, '[Expl=Ring1]': 32, '[\\\\N-expl]': 33, '[/C@@Hexpl]': 34, '[=S@expl]': 35, '[NH+expl]': 36, '[C@expl]': 37, '[C@Hexpl]': 38, '[/N+expl]': 39, '[=O]': 40, '[=P@@expl]': 41, '[Cl]': 42, '[\\\\NH+expl]': 43, '[Ring1]': 44, '[N-expl]': 45, '[O]': 46, '[\\\\Cl]': 47, '[/NHexpl]': 48, '[#N+expl]': 49, '[/O]': 50, '[Branch2_2]': 51, '[S-expl]': 52, '[\\\\NHexpl]': 53, '[Ring2]': 54, '[I]': 55, '[N]': 56, '[Branch2_1]': 57, '[Branch1_1]': 58, '[=N-expl]': 59, '[\\\\N]': 60, '[=S]': 61, '[Br]': 62, '[Branch1_2]': 63, '[#N]': 64, '[Expl\\\\Ring1]': 65, '[S@expl]': 66, '[\\\\C@Hexpl]': 67, '[/S]': 68, '[=S@@expl]': 69, '[/O-expl]': 70, '[NH-expl]': 71, '[Expl=Ring2]': 72, '[/F]': 73, '[\\\\O-expl]': 74, '[NH3+expl]': 75, '[/C]': 76, '[=NH+expl]': 77, '[Branch2_3]': 78, '[C]': 79, '[C@@Hexpl]': 80, '[O-expl]': 81}\n"
     ]
    }
   ],
   "source": [
    "data_url = 'https://github.com/aspuru-guzik-group/selfies/raw/16a489afa70882428bc194b2b24a2d33573f1651/examples/vae_example/datasets/dataJ_250k_rndm_zinc_drugs_clean.txt'\n",
    "\n",
    "pd_data = pd.read_csv(data_url)\n",
    "selfies_list = list(map(sf.encoder, pd_data.iloc[:config.example_number, 0]))\n",
    "all_selfies_symbols = ['[nop]']\n",
    "all_selfies_symbols += sf.get_alphabet_from_selfies(selfies_list)\n",
    "vocab_stoi = {o:i for o,i in zip(all_selfies_symbols, range(len(all_selfies_symbols)))}\n",
    "print(vocab_stoi)"
   ]
  },
  {
   "cell_type": "code",
   "execution_count": 4,
   "metadata": {},
   "outputs": [],
   "source": [
    "encoded = [sf.selfies_to_encoding(s, vocab_stoi)[0] for s in selfies_list]"
   ]
  },
  {
   "cell_type": "markdown",
   "metadata": {},
   "source": [
    "## Build data"
   ]
  },
  {
   "cell_type": "code",
   "execution_count": 5,
   "metadata": {},
   "outputs": [
    {
     "name": "stdout",
     "output_type": "stream",
     "text": [
      "(64, 66) (64, 66)\n"
     ]
    }
   ],
   "source": [
    "# now get sequences\n",
    "padded_seqs = tf.keras.preprocessing.sequence.pad_sequences(encoded, padding='post')\n",
    "\n",
    "# Now build dataset\n",
    "seqs_data = tf.data.Dataset.from_tensor_slices((padded_seqs,))\n",
    "\n",
    "def split_input_target(sequence):\n",
    "    input_text = sequence[:-1]\n",
    "    target_text = sequence[1:]\n",
    "    return input_text, target_text\n",
    "\n",
    "data = seqs_data.map(split_input_target)\n",
    "data = data.shuffle(config.buffer_size).batch(config.batch_size, drop_remainder=True).prefetch(tf.data.experimental.AUTOTUNE)\n",
    "for d in data:\n",
    "    print(d[0].shape, d[1].shape)\n",
    "    example = d[0]\n",
    "    example_y = d[1]\n",
    "    break"
   ]
  },
  {
   "cell_type": "markdown",
   "metadata": {},
   "source": [
    "## Build Model"
   ]
  },
  {
   "cell_type": "code",
   "execution_count": 6,
   "metadata": {},
   "outputs": [],
   "source": [
    "x = tf.keras.Input(shape=(None,))\n",
    "ex = tf.keras.layers.Embedding(input_dim=config.vocab_size, output_dim=config.embedding_dim, mask_zero=True)(x)\n",
    "# reset_after - TFJS?\n",
    "h,s = tf.keras.layers.GRU(config.rnn_size, return_sequences=True, return_state=True, reset_after=False)(ex)\n",
    "yhat = tf.keras.layers.Dense(config.vocab_size)(h)\n",
    "model = tf.keras.Model(inputs=x, outputs=(yhat, s))\n",
    "\n",
    "# make model for inference\n",
    "si = tf.keras.Input(shape=(config.rnn_size,))\n",
    "xi = tf.keras.Input(shape=(None,))\n",
    "x = xi\n",
    "for layer in model.layers[1:]:\n",
    "    if layer.name.startswith('gru'):\n",
    "        x,s = layer(x, initial_state=si)\n",
    "    else:\n",
    "        x = layer(x)\n",
    "#probs = tf.keras.layers.Activation('softmax')(x)\n",
    "model_continue = tf.keras.Model(inputs=(xi, si), outputs=(x,s))"
   ]
  },
  {
   "cell_type": "markdown",
   "metadata": {},
   "source": [
    "## Try Model"
   ]
  },
  {
   "cell_type": "code",
   "execution_count": 7,
   "metadata": {},
   "outputs": [],
   "source": [
    "yhat, s = model(example)"
   ]
  },
  {
   "cell_type": "code",
   "execution_count": 8,
   "metadata": {},
   "outputs": [
    {
     "name": "stdout",
     "output_type": "stream",
     "text": [
      "Model: \"model\"\n",
      "_________________________________________________________________\n",
      "Layer (type)                 Output Shape              Param #   \n",
      "=================================================================\n",
      "input_1 (InputLayer)         [(None, None)]            0         \n",
      "_________________________________________________________________\n",
      "embedding (Embedding)        (None, None, 256)         32768     \n",
      "_________________________________________________________________\n",
      "gru (GRU)                    [(None, None, 128), (None 147840    \n",
      "_________________________________________________________________\n",
      "dense (Dense)                (None, None, 128)         16512     \n",
      "=================================================================\n",
      "Total params: 197,120\n",
      "Trainable params: 197,120\n",
      "Non-trainable params: 0\n",
      "_________________________________________________________________\n"
     ]
    }
   ],
   "source": [
    "model.summary()"
   ]
  },
  {
   "cell_type": "code",
   "execution_count": 9,
   "metadata": {},
   "outputs": [
    {
     "name": "stdout",
     "output_type": "stream",
     "text": [
      "Model: \"model_1\"\n",
      "__________________________________________________________________________________________________\n",
      "Layer (type)                    Output Shape         Param #     Connected to                     \n",
      "==================================================================================================\n",
      "input_3 (InputLayer)            [(None, None)]       0                                            \n",
      "__________________________________________________________________________________________________\n",
      "embedding (Embedding)           (None, None, 256)    32768       input_3[0][0]                    \n",
      "__________________________________________________________________________________________________\n",
      "input_2 (InputLayer)            [(None, 128)]        0                                            \n",
      "__________________________________________________________________________________________________\n",
      "gru (GRU)                       [(None, None, 128),  147840      embedding[1][0]                  \n",
      "                                                                 input_2[0][0]                    \n",
      "__________________________________________________________________________________________________\n",
      "dense (Dense)                   (None, None, 128)    16512       gru[1][0]                        \n",
      "==================================================================================================\n",
      "Total params: 197,120\n",
      "Trainable params: 197,120\n",
      "Non-trainable params: 0\n",
      "__________________________________________________________________________________________________\n"
     ]
    }
   ],
   "source": [
    "x, s = model_continue([example, s])\n",
    "model_continue([x[...,0], s])\n",
    "model_continue.summary()"
   ]
  },
  {
   "cell_type": "markdown",
   "metadata": {},
   "source": [
    "## Train"
   ]
  },
  {
   "cell_type": "code",
   "execution_count": 10,
   "metadata": {
    "scrolled": true
   },
   "outputs": [
    {
     "name": "stdout",
     "output_type": "stream",
     "text": [
      "Epoch 1/3\n",
      "312/312 [==============================] - 15s 44ms/step - loss: 0.8397 - dense_loss: 0.8397\n",
      "Epoch 2/3\n",
      "312/312 [==============================] - 14s 44ms/step - loss: 0.6377 - dense_loss: 0.6377\n",
      "Epoch 3/3\n",
      "312/312 [==============================] - 14s 46ms/step - loss: 0.6002 - dense_loss: 0.6002\n"
     ]
    }
   ],
   "source": [
    "loss = tf.losses.SparseCategoricalCrossentropy(from_logits=True)\n",
    "model.compile(tf.optimizers.Adam(1e-2), loss=[loss, None])\n",
    "result = model.fit(data, epochs=3)"
   ]
  },
  {
   "cell_type": "code",
   "execution_count": 11,
   "metadata": {},
   "outputs": [
    {
     "data": {
      "image/png": "[encoded data removed]",
      "text/plain": [
       "<Figure size 432x288 with 1 Axes>"
      ]
     },
     "metadata": {
      "needs_background": "light"
     },
     "output_type": "display_data"
    }
   ],
   "source": [
    "plt.plot(result.history['loss'])\n",
    "plt.show()\n",
    "model.reset_states()"
   ]
  },
  {
   "cell_type": "markdown",
   "metadata": {},
   "source": [
    "## Try Trained Model"
   ]
  },
  {
   "cell_type": "code",
   "execution_count": 12,
   "metadata": {},
   "outputs": [],
   "source": [
    "start = np.zeros((1, 10))\n",
    "start[0, 0] = 1\n",
    "start[0,1] = 2\n",
    "x,s = model_continue([start, np.zeros((1, config.rnn_size))])"
   ]
  },
  {
   "cell_type": "code",
   "execution_count": 13,
   "metadata": {},
   "outputs": [],
   "source": [
    "model_continue.layers[2].return_sequences=False"
   ]
  },
  {
   "cell_type": "markdown",
   "metadata": {},
   "source": [
    "## Save Model"
   ]
  },
  {
   "cell_type": "code",
   "execution_count": 14,
   "metadata": {},
   "outputs": [
    {
     "name": "stdout",
     "output_type": "stream",
     "text": [
      "WARNING:tensorflow:Compiled the loaded model, but the compiled metrics have yet to be built. `model.compile_metrics` will be empty until you train or evaluate the model.\n"
     ]
    }
   ],
   "source": [
    "import tensorflowjs as tfjs\n",
    "tfjs.converters.save_keras_model(model_continue, '../model')"
   ]
  },
  {
   "cell_type": "markdown",
   "metadata": {},
   "source": [
    "## Save Config"
   ]
  },
  {
   "cell_type": "code",
   "execution_count": 15,
   "metadata": {
    "scrolled": false
   },
   "outputs": [
    {
     "name": "stdout",
     "output_type": "stream",
     "text": [
      "{\n",
      "  \"vocab_size\": 128,\n",
      "  \"example_number\": 20000,\n",
      "  \"batch_size\": 64,\n",
      "  \"buffer_size\": 1000,\n",
      "  \"embedding_dim\": 256,\n",
      "  \"rnn_size\": 128,\n",
      "  \"stoi\": {\n",
      "    \"[nop]\": 0,\n",
      "    \"[\\\\S-expl]\": 1,\n",
      "    \"[/NH+expl]\": 2,\n",
      "    \"[=OH+expl]\": 3,\n",
      "    \"[S@@expl]\": 4,\n",
      "    \"[\\\\C]\": 5,\n",
      "    \"[Branch1_3]\": 6,\n",
      "    \"[NHexpl]\": 7,\n",
      "    \"[NH2+expl]\": 8,\n",
      "    \"[/S@expl]\": 9,\n",
      "    \"[P]\": 10,\n",
      "    \"[/C@Hexpl]\": 11,\n",
      "    \"[F]\": 12,\n",
      "    \"[/S-expl]\": 13,\n",
      "    \"[\\\\O]\": 14,\n",
      "    \"[=C]\": 15,\n",
      "    \"[=PH2expl]\": 16,\n",
      "    \"[P@expl]\": 17,\n",
      "    \"[S]\": 18,\n",
      "    \"[/Cl]\": 19,\n",
      "    \"[P@@Hexpl]\": 20,\n",
      "    \"[#C]\": 21,\n",
      "    \"[=P]\": 22,\n",
      "    \"[\\\\C@@Hexpl]\": 23,\n",
      "    \"[=N]\": 24,\n",
      "    \"[\\\\S]\": 25,\n",
      "    \"[N+expl]\": 26,\n",
      "    \"[/N]\": 27,\n",
      "    \"[P@@expl]\": 28,\n",
      "    \"[C@@expl]\": 29,\n",
      "    \"[=N+expl]\": 30,\n",
      "    \"[=NH2+expl]\": 31,\n",
      "    \"[Expl=Ring1]\": 32,\n",
      "    \"[\\\\N-expl]\": 33,\n",
      "    \"[/C@@Hexpl]\": 34,\n",
      "    \"[=S@expl]\": 35,\n",
      "    \"[NH+expl]\": 36,\n",
      "    \"[C@expl]\": 37,\n",
      "    \"[C@Hexpl]\": 38,\n",
      "    \"[/N+expl]\": 39,\n",
      "    \"[=O]\": 40,\n",
      "    \"[=P@@expl]\": 41,\n",
      "    \"[Cl]\": 42,\n",
      "    \"[\\\\NH+expl]\": 43,\n",
      "    \"[Ring1]\": 44,\n",
      "    \"[N-expl]\": 45,\n",
      "    \"[O]\": 46,\n",
      "    \"[\\\\Cl]\": 47,\n",
      "    \"[/NHexpl]\": 48,\n",
      "    \"[#N+expl]\": 49,\n",
      "    \"[/O]\": 50,\n",
      "    \"[Branch2_2]\": 51,\n",
      "    \"[S-expl]\": 52,\n",
      "    \"[\\\\NHexpl]\": 53,\n",
      "    \"[Ring2]\": 54,\n",
      "    \"[I]\": 55,\n",
      "    \"[N]\": 56,\n",
      "    \"[Branch2_1]\": 57,\n",
      "    \"[Branch1_1]\": 58,\n",
      "    \"[=N-expl]\": 59,\n",
      "    \"[\\\\N]\": 60,\n",
      "    \"[=S]\": 61,\n",
      "    \"[Br]\": 62,\n",
      "    \"[Branch1_2]\": 63,\n",
      "    \"[#N]\": 64,\n",
      "    \"[Expl\\\\Ring1]\": 65,\n",
      "    \"[S@expl]\": 66,\n",
      "    \"[\\\\C@Hexpl]\": 67,\n",
      "    \"[/S]\": 68,\n",
      "    \"[=S@@expl]\": 69,\n",
      "    \"[/O-expl]\": 70,\n",
      "    \"[NH-expl]\": 71,\n",
      "    \"[Expl=Ring2]\": 72,\n",
      "    \"[/F]\": 73,\n",
      "    \"[\\\\O-expl]\": 74,\n",
      "    \"[NH3+expl]\": 75,\n",
      "    \"[/C]\": 76,\n",
      "    \"[=NH+expl]\": 77,\n",
      "    \"[Branch2_3]\": 78,\n",
      "    \"[C]\": 79,\n",
      "    \"[C@@Hexpl]\": 80,\n",
      "    \"[O-expl]\": 81\n",
      "  },\n",
      "  \"vocab\": [\n",
      "    \"[nop]\",\n",
      "    \"[\\\\S-expl]\",\n",
      "    \"[/NH+expl]\",\n",
      "    \"[=OH+expl]\",\n",
      "    \"[S@@expl]\",\n",
      "    \"[\\\\C]\",\n",
      "    \"[Branch1_3]\",\n",
      "    \"[NHexpl]\",\n",
      "    \"[NH2+expl]\",\n",
      "    \"[/S@expl]\",\n",
      "    \"[P]\",\n",
      "    \"[/C@Hexpl]\",\n",
      "    \"[F]\",\n",
      "    \"[/S-expl]\",\n",
      "    \"[\\\\O]\",\n",
      "    \"[=C]\",\n",
      "    \"[=PH2expl]\",\n",
      "    \"[P@expl]\",\n",
      "    \"[S]\",\n",
      "    \"[/Cl]\",\n",
      "    \"[P@@Hexpl]\",\n",
      "    \"[#C]\",\n",
      "    \"[=P]\",\n",
      "    \"[\\\\C@@Hexpl]\",\n",
      "    \"[=N]\",\n",
      "    \"[\\\\S]\",\n",
      "    \"[N+expl]\",\n",
      "    \"[/N]\",\n",
      "    \"[P@@expl]\",\n",
      "    \"[C@@expl]\",\n",
      "    \"[=N+expl]\",\n",
      "    \"[=NH2+expl]\",\n",
      "    \"[Expl=Ring1]\",\n",
      "    \"[\\\\N-expl]\",\n",
      "    \"[/C@@Hexpl]\",\n",
      "    \"[=S@expl]\",\n",
      "    \"[NH+expl]\",\n",
      "    \"[C@expl]\",\n",
      "    \"[C@Hexpl]\",\n",
      "    \"[/N+expl]\",\n",
      "    \"[=O]\",\n",
      "    \"[=P@@expl]\",\n",
      "    \"[Cl]\",\n",
      "    \"[\\\\NH+expl]\",\n",
      "    \"[Ring1]\",\n",
      "    \"[N-expl]\",\n",
      "    \"[O]\",\n",
      "    \"[\\\\Cl]\",\n",
      "    \"[/NHexpl]\",\n",
      "    \"[#N+expl]\",\n",
      "    \"[/O]\",\n",
      "    \"[Branch2_2]\",\n",
      "    \"[S-expl]\",\n",
      "    \"[\\\\NHexpl]\",\n",
      "    \"[Ring2]\",\n",
      "    \"[I]\",\n",
      "    \"[N]\",\n",
      "    \"[Branch2_1]\",\n",
      "    \"[Branch1_1]\",\n",
      "    \"[=N-expl]\",\n",
      "    \"[\\\\N]\",\n",
      "    \"[=S]\",\n",
      "    \"[Br]\",\n",
      "    \"[Branch1_2]\",\n",
      "    \"[#N]\",\n",
      "    \"[Expl\\\\Ring1]\",\n",
      "    \"[S@expl]\",\n",
      "    \"[\\\\C@Hexpl]\",\n",
      "    \"[/S]\",\n",
      "    \"[=S@@expl]\",\n",
      "    \"[/O-expl]\",\n",
      "    \"[NH-expl]\",\n",
      "    \"[Expl=Ring2]\",\n",
      "    \"[/F]\",\n",
      "    \"[\\\\O-expl]\",\n",
      "    \"[NH3+expl]\",\n",
      "    \"[/C]\",\n",
      "    \"[=NH+expl]\",\n",
      "    \"[Branch2_3]\",\n",
      "    \"[C]\",\n",
      "    \"[C@@Hexpl]\",\n",
      "    \"[O-expl]\"\n",
      "  ]\n",
      "}\n"
     ]
    }
   ],
   "source": [
    "import json\n",
    "\n",
    "model_info = asdict(config)\n",
    "model_info['stoi'] = vocab_stoi\n",
    "model_info['vocab'] = all_selfies_symbols\n",
    "\n",
    "\n",
    "with open('../src/lib/model_info.json', 'w') as f:\n",
    "    json.dump(model_info, f)\n",
    "    print(json.dumps(model_info, indent=2))"
   ]
  }
 ],
 "metadata": {
  "kernelspec": {
   "display_name": "Python 3",
   "language": "python",
   "name": "python3"
  },
  "language_info": {
   "codemirror_mode": {
    "name": "ipython",
    "version": 3
   },
   "file_extension": ".py",
   "mimetype": "text/x-python",
   "name": "python",
   "nbconvert_exporter": "python",
   "pygments_lexer": "ipython3",
   "version": "3.7.8"
  }
 },
 "nbformat": 4,
 "nbformat_minor": 4
}
