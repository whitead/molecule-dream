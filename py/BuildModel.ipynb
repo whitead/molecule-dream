{
 "cells": [
  {
   "cell_type": "code",
   "execution_count": 1,
   "metadata": {},
   "outputs": [],
   "source": [
    "import selfies as sf\n",
    "import pandas as pd\n",
    "import numpy as np\n",
    "import tensorflow as tf\n",
    "import matplotlib.pyplot as plt\n",
    "from typing import NamedTuple\n",
    "from dataclasses import dataclass, asdict\n",
    "import json"
   ]
  },
  {
   "cell_type": "markdown",
   "metadata": {},
   "source": [
    "## Get Vocab"
   ]
  },
  {
   "cell_type": "code",
   "execution_count": 2,
   "metadata": {},
   "outputs": [
    {
     "name": "stdout",
     "output_type": "stream",
     "text": [
      "Total data size 249455\n"
     ]
    }
   ],
   "source": [
    "data_url = 'https://github.com/aspuru-guzik-group/selfies/raw/16a489afa70882428bc194b2b24a2d33573f1651/examples/vae_example/datasets/dataJ_250k_rndm_zinc_drugs_clean.txt'\n",
    "\n",
    "pd_data = pd.read_csv(data_url)\n",
    "print('Total data size', len(pd_data))\n",
    "selfies_list = list(map(sf.encoder, pd_data.iloc[:, 0]))\n",
    "all_selfies_symbols = ['[nop]']\n",
    "all_selfies_symbols += sf.get_alphabet_from_selfies(selfies_list)\n",
    "vocab_stoi = {o:i for o,i in zip(all_selfies_symbols, range(len(all_selfies_symbols)))}"
   ]
  },
  {
   "cell_type": "code",
   "execution_count": 3,
   "metadata": {},
   "outputs": [
    {
     "name": "stdout",
     "output_type": "stream",
     "text": [
      "Number of sequences used 249455\n"
     ]
    }
   ],
   "source": [
    "encoded = [sf.selfies_to_encoding(s, vocab_stoi)[0] for s in selfies_list]\n",
    "print('Number of sequences used', len(encoded))"
   ]
  },
  {
   "cell_type": "code",
   "execution_count": 5,
   "metadata": {},
   "outputs": [],
   "source": [
    "@dataclass\n",
    "class Config:\n",
    "    vocab_size: int\n",
    "    example_number: int\n",
    "    batch_size: int\n",
    "    buffer_size: int\n",
    "    embedding_dim: int\n",
    "    rnn_units: int\n",
    "        \n",
    "config = Config(vocab_size=len(all_selfies_symbols), \n",
    "                example_number=len(selfies_list), \n",
    "                batch_size=64, \n",
    "                buffer_size=10000, \n",
    "                embedding_dim=256, \n",
    "                rnn_units=128)"
   ]
  },
  {
   "cell_type": "markdown",
   "metadata": {},
   "source": [
    "## Build data"
   ]
  },
  {
   "cell_type": "code",
   "execution_count": 6,
   "metadata": {},
   "outputs": [
    {
     "name": "stdout",
     "output_type": "stream",
     "text": [
      "(64, 72) (64, 72)\n"
     ]
    }
   ],
   "source": [
    "# now get sequences\n",
    "padded_seqs = tf.keras.preprocessing.sequence.pad_sequences(encoded, padding='post')\n",
    "\n",
    "# Now build dataset\n",
    "seqs_data = tf.data.Dataset.from_tensor_slices((padded_seqs,))\n",
    "\n",
    "def split_input_target(sequence):\n",
    "    # remove last input (since no label exists)\n",
    "    # prefix with [nop]\n",
    "    input_text = tf.concat(([0], sequence[:-1]), 0)\n",
    "    target_text = sequence\n",
    "    return input_text, target_text\n",
    "\n",
    "data = seqs_data.map(split_input_target)\n",
    "data = data.shuffle(config.buffer_size).batch(config.batch_size, drop_remainder=True).prefetch(tf.data.experimental.AUTOTUNE)\n",
    "for d in data:\n",
    "    print(d[0].shape, d[1].shape)\n",
    "    example = d[0]\n",
    "    example_y = d[1]\n",
    "    break"
   ]
  },
  {
   "cell_type": "markdown",
   "metadata": {},
   "source": [
    "## Build Model"
   ]
  },
  {
   "cell_type": "code",
   "execution_count": 8,
   "metadata": {},
   "outputs": [],
   "source": [
    "x = tf.keras.Input(shape=(None,))\n",
    "ex = tf.keras.layers.Embedding(input_dim=config.vocab_size, output_dim=config.embedding_dim, mask_zero=True)(x)\n",
    "# reset_after - TFJS requires this as false\n",
    "h = tf.keras.layers.GRU(config.rnn_units, return_sequences=True, reset_after=False, stateful=False)(ex)\n",
    "yhat = tf.keras.layers.Dense(config.vocab_size)(h)\n",
    "model = tf.keras.Model(inputs=x, outputs=yhat)"
   ]
  },
  {
   "cell_type": "markdown",
   "metadata": {},
   "source": [
    "## Try Model"
   ]
  },
  {
   "cell_type": "code",
   "execution_count": 9,
   "metadata": {},
   "outputs": [],
   "source": [
    "yhat = model(example)"
   ]
  },
  {
   "cell_type": "code",
   "execution_count": 10,
   "metadata": {},
   "outputs": [
    {
     "name": "stdout",
     "output_type": "stream",
     "text": [
      "Model: \"model\"\n",
      "_________________________________________________________________\n",
      "Layer (type)                 Output Shape              Param #   \n",
      "=================================================================\n",
      "input_2 (InputLayer)         [(None, None)]            0         \n",
      "_________________________________________________________________\n",
      "embedding_1 (Embedding)      (None, None, 256)         27648     \n",
      "_________________________________________________________________\n",
      "gru (GRU)                    (None, None, 128)         147840    \n",
      "_________________________________________________________________\n",
      "dense (Dense)                (None, None, 108)         13932     \n",
      "=================================================================\n",
      "Total params: 189,420\n",
      "Trainable params: 189,420\n",
      "Non-trainable params: 0\n",
      "_________________________________________________________________\n"
     ]
    }
   ],
   "source": [
    "model.summary()"
   ]
  },
  {
   "cell_type": "markdown",
   "metadata": {},
   "source": [
    "## Train"
   ]
  },
  {
   "cell_type": "code",
   "execution_count": 12,
   "metadata": {
    "scrolled": true
   },
   "outputs": [
    {
     "name": "stdout",
     "output_type": "stream",
     "text": [
      "Epoch 1/2\n",
      "3897/3897 [==============================] - 197s 50ms/step - loss: 0.6328\n",
      "Epoch 2/2\n",
      "3897/3897 [==============================] - 188s 48ms/step - loss: 0.6033\n"
     ]
    }
   ],
   "source": [
    "loss = tf.losses.SparseCategoricalCrossentropy(from_logits=True)\n",
    "model.compile(tf.optimizers.Adam(1e-2), loss=loss)\n",
    "result = model.fit(data, epochs=5)"
   ]
  },
  {
   "cell_type": "code",
   "execution_count": 13,
   "metadata": {},
   "outputs": [
    {
     "data": {
      "image/png": "[encoded data removed]",
      "text/plain": [
       "<Figure size 432x288 with 1 Axes>"
      ]
     },
     "metadata": {
      "needs_background": "light"
     },
     "output_type": "display_data"
    }
   ],
   "source": [
    "plt.plot(result.history['loss'])\n",
    "plt.show()"
   ]
  },
  {
   "cell_type": "markdown",
   "metadata": {},
   "source": [
    "## Build Inference Model"
   ]
  },
  {
   "cell_type": "code",
   "execution_count": 14,
   "metadata": {},
   "outputs": [],
   "source": [
    "x = tf.keras.Input(shape=(None,), batch_size=1)\n",
    "ex = tf.keras.layers.Embedding(input_dim=config.vocab_size, output_dim=config.embedding_dim, mask_zero=True)(x)\n",
    "h = tf.keras.layers.GRU(config.rnn_units, return_sequences=False, reset_after=False, stateful=True)(ex)\n",
    "yhat = tf.keras.layers.Dense(config.vocab_size)(h)\n",
    "inference_model = tf.keras.Model(inputs=x, outputs=yhat)\n",
    "\n",
    "inference_model.set_weights(model.get_weights())"
   ]
  },
  {
   "cell_type": "markdown",
   "metadata": {},
   "source": [
    "## Try Inference Model"
   ]
  },
  {
   "cell_type": "code",
   "execution_count": 15,
   "metadata": {},
   "outputs": [],
   "source": [
    "start = np.zeros((1,))\n",
    "inference_model.predict(start);"
   ]
  },
  {
   "cell_type": "markdown",
   "metadata": {},
   "source": [
    "## Save Model"
   ]
  },
  {
   "cell_type": "code",
   "execution_count": 16,
   "metadata": {},
   "outputs": [
    {
     "name": "stdout",
     "output_type": "stream",
     "text": [
      "WARNING:tensorflow:Compiled the loaded model, but the compiled metrics have yet to be built. `model.compile_metrics` will be empty until you train or evaluate the model.\n"
     ]
    }
   ],
   "source": [
    "import tensorflowjs as tfjs\n",
    "tfjs.converters.save_keras_model(inference_model, '../static/model')"
   ]
  },
  {
   "cell_type": "markdown",
   "metadata": {},
   "source": [
    "## Save Config"
   ]
  },
  {
   "cell_type": "code",
   "execution_count": 17,
   "metadata": {
    "scrolled": false
   },
   "outputs": [],
   "source": [
    "import json\n",
    "\n",
    "model_info = asdict(config)\n",
    "model_info['stoi'] = vocab_stoi\n",
    "model_info['vocab'] = all_selfies_symbols\n",
    "\n",
    "\n",
    "with open('../src/lib/model_info.json', 'w') as f:\n",
    "    json.dump(model_info, f)"
   ]
  }
 ],
 "metadata": {
  "kernelspec": {
   "display_name": "Python 3",
   "language": "python",
   "name": "python3"
  },
  "language_info": {
   "codemirror_mode": {
    "name": "ipython",
    "version": 3
   },
   "file_extension": ".py",
   "mimetype": "text/x-python",
   "name": "python",
   "nbconvert_exporter": "python",
   "pygments_lexer": "ipython3",
   "version": "3.7.8"
  }
 },
 "nbformat": 4,
 "nbformat_minor": 4
}
